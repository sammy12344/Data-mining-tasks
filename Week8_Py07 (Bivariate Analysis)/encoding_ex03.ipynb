{
 "cells": [
  {
   "cell_type": "code",
   "execution_count": 273,
   "id": "511a60fc",
   "metadata": {},
   "outputs": [],
   "source": [
    "import pandas as pd\n",
    "from scipy import stats\n",
    "import matplotlib.pyplot as plt \n",
    "import seaborn as sns"
   ]
  },
  {
   "cell_type": "code",
   "execution_count": 329,
   "id": "4dd68f47",
   "metadata": {},
   "outputs": [
    {
     "data": {
      "text/html": [
       "<div>\n",
       "<style scoped>\n",
       "    .dataframe tbody tr th:only-of-type {\n",
       "        vertical-align: middle;\n",
       "    }\n",
       "\n",
       "    .dataframe tbody tr th {\n",
       "        vertical-align: top;\n",
       "    }\n",
       "\n",
       "    .dataframe thead th {\n",
       "        text-align: right;\n",
       "    }\n",
       "</style>\n",
       "<table border=\"1\" class=\"dataframe\">\n",
       "  <thead>\n",
       "    <tr style=\"text-align: right;\">\n",
       "      <th></th>\n",
       "      <th>Gender</th>\n",
       "      <th>Age</th>\n",
       "      <th>Education</th>\n",
       "      <th>Salary</th>\n",
       "    </tr>\n",
       "  </thead>\n",
       "  <tbody>\n",
       "    <tr>\n",
       "      <th>0</th>\n",
       "      <td>Male</td>\n",
       "      <td>24</td>\n",
       "      <td>BSc</td>\n",
       "      <td>500</td>\n",
       "    </tr>\n",
       "    <tr>\n",
       "      <th>1</th>\n",
       "      <td>Female</td>\n",
       "      <td>29</td>\n",
       "      <td>MSc</td>\n",
       "      <td>750</td>\n",
       "    </tr>\n",
       "    <tr>\n",
       "      <th>2</th>\n",
       "      <td>Female</td>\n",
       "      <td>29</td>\n",
       "      <td>MSc</td>\n",
       "      <td>750</td>\n",
       "    </tr>\n",
       "    <tr>\n",
       "      <th>3</th>\n",
       "      <td>Male</td>\n",
       "      <td>36</td>\n",
       "      <td>PhD</td>\n",
       "      <td>1250</td>\n",
       "    </tr>\n",
       "    <tr>\n",
       "      <th>4</th>\n",
       "      <td>Female</td>\n",
       "      <td>24</td>\n",
       "      <td>BSc</td>\n",
       "      <td>500</td>\n",
       "    </tr>\n",
       "  </tbody>\n",
       "</table>\n",
       "</div>"
      ],
      "text/plain": [
       "   Gender  Age Education  Salary\n",
       "0    Male   24       BSc     500\n",
       "1  Female   29       MSc     750\n",
       "2  Female   29       MSc     750\n",
       "3    Male   36       PhD    1250\n",
       "4  Female   24       BSc     500"
      ]
     },
     "execution_count": 329,
     "metadata": {},
     "output_type": "execute_result"
    }
   ],
   "source": [
    "df = pd.read_csv('employees.csv')\n",
    "df.head()"
   ]
  },
  {
   "cell_type": "code",
   "execution_count": 330,
   "id": "073768f6",
   "metadata": {},
   "outputs": [
    {
     "data": {
      "text/html": [
       "<div>\n",
       "<style scoped>\n",
       "    .dataframe tbody tr th:only-of-type {\n",
       "        vertical-align: middle;\n",
       "    }\n",
       "\n",
       "    .dataframe tbody tr th {\n",
       "        vertical-align: top;\n",
       "    }\n",
       "\n",
       "    .dataframe thead th {\n",
       "        text-align: right;\n",
       "    }\n",
       "</style>\n",
       "<table border=\"1\" class=\"dataframe\">\n",
       "  <thead>\n",
       "    <tr style=\"text-align: right;\">\n",
       "      <th></th>\n",
       "      <th>Age</th>\n",
       "      <th>Salary</th>\n",
       "    </tr>\n",
       "    <tr>\n",
       "      <th>Education</th>\n",
       "      <th></th>\n",
       "      <th></th>\n",
       "    </tr>\n",
       "  </thead>\n",
       "  <tbody>\n",
       "    <tr>\n",
       "      <th>BSc</th>\n",
       "      <td>24</td>\n",
       "      <td>500</td>\n",
       "    </tr>\n",
       "    <tr>\n",
       "      <th>MSc</th>\n",
       "      <td>29</td>\n",
       "      <td>750</td>\n",
       "    </tr>\n",
       "    <tr>\n",
       "      <th>PhD</th>\n",
       "      <td>36</td>\n",
       "      <td>1250</td>\n",
       "    </tr>\n",
       "  </tbody>\n",
       "</table>\n",
       "</div>"
      ],
      "text/plain": [
       "           Age  Salary\n",
       "Education             \n",
       "BSc         24     500\n",
       "MSc         29     750\n",
       "PhD         36    1250"
      ]
     },
     "execution_count": 330,
     "metadata": {},
     "output_type": "execute_result"
    }
   ],
   "source": [
    "# Getting median age for each category\n",
    "grp = df.groupby('Education')\n",
    "grp.median()"
   ]
  },
  {
   "cell_type": "code",
   "execution_count": 331,
   "id": "8229ca9e",
   "metadata": {},
   "outputs": [
    {
     "name": "stdout",
     "output_type": "stream",
     "text": [
      "           Age  Salary\n",
      "Age_Range             \n",
      "Young       24     500\n",
      "Adult       29     750\n",
      "Old         36    1250\n",
      "          Age  Salary\n",
      "Gender               \n",
      "Female  29.60   828.0\n",
      "Male    29.08   796.0\n",
      "           Age  Salary\n",
      "Education             \n",
      "BSc         24     500\n",
      "MSc         29     750\n",
      "PhD         36    1250\n"
     ]
    }
   ],
   "source": [
    "# Creating age ranges\n",
    "df['Age_Range'] = pd.cut(x=df['Age'], bins=[0, 24, 29, 36], labels=['Young', 'Adult', 'Old'])\n",
    "print(df.groupby(['Age_Range']).mean())\n",
    "print(df.groupby(['Gender']).mean())\n",
    "print(df.groupby(['Education']).mean())"
   ]
  },
  {
   "cell_type": "markdown",
   "id": "47f2aba4",
   "metadata": {},
   "source": [
    "## Label Encoding"
   ]
  },
  {
   "cell_type": "code",
   "execution_count": 332,
   "id": "7b26f0be",
   "metadata": {},
   "outputs": [
    {
     "name": "stdout",
     "output_type": "stream",
     "text": [
      "[0 1 1 2 0 0 1 2 1 1 1 1 1 0 1 0 0 2 2 1 2 1 1 0 0 1 2 2 0 0 2 2 2 2 0 0 0\n",
      " 0 0 1 2 0 1 0 1 0 2 0 2 1 1 0 2 1 2 0 1 1 0 1 0 0 1 0 0 0 1 2 0 0 2 0 1 2\n",
      " 0 1 2 2 0 2 2 2 0 1 0 1 0 0 0 1 2 1 1 2 0 1 0 0 2 1 1 2 1 0 2 2 0 1 2 2 0\n",
      " 1 2 2 0 0 2 0 1 2 0 2 0 0 0 0 1 2 0 2 0 0 1 1 0 1 1 1 2 0 1 2 1 1 1 1 2 0\n",
      " 1 2 0 1 2 0 2 0 1 1 1 1 2 0 0 1 1 2 1 2 0 1 0 2 1 2 0 2 1 1 2 1 0 0 1 0 1\n",
      " 1 2 0 2 2 2 2 1 1 1 2 1 2 0 2 2 1 1 0 2 2 1 1 2 2 0 0 1 0 2 2 0 0 1 0 2 1\n",
      " 1 0 2 1 1 2 0 0 1 1 2 2 0 0 2 1 1 0 2 0 1 0 0 1 1 0 0 2]\n"
     ]
    }
   ],
   "source": [
    "# Applying Label Encoding for \"Education\"\n",
    "from sklearn.preprocessing import LabelEncoder\n",
    "\n",
    "label_encoder = LabelEncoder()\n",
    "integer_encoded = label_encoder.fit_transform(df['Education'])\n",
    "print(integer_encoded)\n",
    "\n",
    "df[\"Education\"].replace(to_replace=df[\"Education\"].tolist(), value=integer_encoded, inplace = True)"
   ]
  },
  {
   "cell_type": "code",
   "execution_count": 333,
   "id": "768cb1dd",
   "metadata": {},
   "outputs": [
    {
     "data": {
      "text/html": [
       "<div>\n",
       "<style scoped>\n",
       "    .dataframe tbody tr th:only-of-type {\n",
       "        vertical-align: middle;\n",
       "    }\n",
       "\n",
       "    .dataframe tbody tr th {\n",
       "        vertical-align: top;\n",
       "    }\n",
       "\n",
       "    .dataframe thead th {\n",
       "        text-align: right;\n",
       "    }\n",
       "</style>\n",
       "<table border=\"1\" class=\"dataframe\">\n",
       "  <thead>\n",
       "    <tr style=\"text-align: right;\">\n",
       "      <th></th>\n",
       "      <th>Gender</th>\n",
       "      <th>Age</th>\n",
       "      <th>Education</th>\n",
       "      <th>Salary</th>\n",
       "      <th>Age_Range</th>\n",
       "    </tr>\n",
       "  </thead>\n",
       "  <tbody>\n",
       "    <tr>\n",
       "      <th>0</th>\n",
       "      <td>Male</td>\n",
       "      <td>24</td>\n",
       "      <td>0</td>\n",
       "      <td>500</td>\n",
       "      <td>Young</td>\n",
       "    </tr>\n",
       "    <tr>\n",
       "      <th>1</th>\n",
       "      <td>Female</td>\n",
       "      <td>29</td>\n",
       "      <td>1</td>\n",
       "      <td>750</td>\n",
       "      <td>Adult</td>\n",
       "    </tr>\n",
       "    <tr>\n",
       "      <th>2</th>\n",
       "      <td>Female</td>\n",
       "      <td>29</td>\n",
       "      <td>1</td>\n",
       "      <td>750</td>\n",
       "      <td>Adult</td>\n",
       "    </tr>\n",
       "    <tr>\n",
       "      <th>3</th>\n",
       "      <td>Male</td>\n",
       "      <td>36</td>\n",
       "      <td>2</td>\n",
       "      <td>1250</td>\n",
       "      <td>Old</td>\n",
       "    </tr>\n",
       "    <tr>\n",
       "      <th>4</th>\n",
       "      <td>Female</td>\n",
       "      <td>24</td>\n",
       "      <td>0</td>\n",
       "      <td>500</td>\n",
       "      <td>Young</td>\n",
       "    </tr>\n",
       "  </tbody>\n",
       "</table>\n",
       "</div>"
      ],
      "text/plain": [
       "   Gender  Age  Education  Salary Age_Range\n",
       "0    Male   24          0     500     Young\n",
       "1  Female   29          1     750     Adult\n",
       "2  Female   29          1     750     Adult\n",
       "3    Male   36          2    1250       Old\n",
       "4  Female   24          0     500     Young"
      ]
     },
     "execution_count": 333,
     "metadata": {},
     "output_type": "execute_result"
    }
   ],
   "source": [
    "df.head()"
   ]
  },
  {
   "cell_type": "markdown",
   "id": "0482c66c",
   "metadata": {},
   "source": [
    "## One-hot Encoding"
   ]
  },
  {
   "cell_type": "code",
   "execution_count": 334,
   "id": "06fe76b5",
   "metadata": {},
   "outputs": [
    {
     "data": {
      "text/html": [
       "<div>\n",
       "<style scoped>\n",
       "    .dataframe tbody tr th:only-of-type {\n",
       "        vertical-align: middle;\n",
       "    }\n",
       "\n",
       "    .dataframe tbody tr th {\n",
       "        vertical-align: top;\n",
       "    }\n",
       "\n",
       "    .dataframe thead th {\n",
       "        text-align: right;\n",
       "    }\n",
       "</style>\n",
       "<table border=\"1\" class=\"dataframe\">\n",
       "  <thead>\n",
       "    <tr style=\"text-align: right;\">\n",
       "      <th></th>\n",
       "      <th>Age</th>\n",
       "      <th>Education</th>\n",
       "      <th>Salary</th>\n",
       "      <th>Age_Range</th>\n",
       "      <th>Gender</th>\n",
       "    </tr>\n",
       "  </thead>\n",
       "  <tbody>\n",
       "    <tr>\n",
       "      <th>0</th>\n",
       "      <td>24</td>\n",
       "      <td>0</td>\n",
       "      <td>500</td>\n",
       "      <td>Young</td>\n",
       "      <td>1.0</td>\n",
       "    </tr>\n",
       "    <tr>\n",
       "      <th>1</th>\n",
       "      <td>29</td>\n",
       "      <td>1</td>\n",
       "      <td>750</td>\n",
       "      <td>Adult</td>\n",
       "      <td>0.0</td>\n",
       "    </tr>\n",
       "    <tr>\n",
       "      <th>2</th>\n",
       "      <td>29</td>\n",
       "      <td>1</td>\n",
       "      <td>750</td>\n",
       "      <td>Adult</td>\n",
       "      <td>0.0</td>\n",
       "    </tr>\n",
       "    <tr>\n",
       "      <th>3</th>\n",
       "      <td>36</td>\n",
       "      <td>2</td>\n",
       "      <td>1250</td>\n",
       "      <td>Old</td>\n",
       "      <td>1.0</td>\n",
       "    </tr>\n",
       "    <tr>\n",
       "      <th>4</th>\n",
       "      <td>24</td>\n",
       "      <td>0</td>\n",
       "      <td>500</td>\n",
       "      <td>Young</td>\n",
       "      <td>0.0</td>\n",
       "    </tr>\n",
       "    <tr>\n",
       "      <th>...</th>\n",
       "      <td>...</td>\n",
       "      <td>...</td>\n",
       "      <td>...</td>\n",
       "      <td>...</td>\n",
       "      <td>...</td>\n",
       "    </tr>\n",
       "    <tr>\n",
       "      <th>245</th>\n",
       "      <td>29</td>\n",
       "      <td>1</td>\n",
       "      <td>750</td>\n",
       "      <td>Adult</td>\n",
       "      <td>0.0</td>\n",
       "    </tr>\n",
       "    <tr>\n",
       "      <th>246</th>\n",
       "      <td>29</td>\n",
       "      <td>1</td>\n",
       "      <td>750</td>\n",
       "      <td>Adult</td>\n",
       "      <td>0.0</td>\n",
       "    </tr>\n",
       "    <tr>\n",
       "      <th>247</th>\n",
       "      <td>24</td>\n",
       "      <td>0</td>\n",
       "      <td>500</td>\n",
       "      <td>Young</td>\n",
       "      <td>0.0</td>\n",
       "    </tr>\n",
       "    <tr>\n",
       "      <th>248</th>\n",
       "      <td>24</td>\n",
       "      <td>0</td>\n",
       "      <td>500</td>\n",
       "      <td>Young</td>\n",
       "      <td>0.0</td>\n",
       "    </tr>\n",
       "    <tr>\n",
       "      <th>249</th>\n",
       "      <td>36</td>\n",
       "      <td>2</td>\n",
       "      <td>1250</td>\n",
       "      <td>Old</td>\n",
       "      <td>0.0</td>\n",
       "    </tr>\n",
       "  </tbody>\n",
       "</table>\n",
       "<p>250 rows × 5 columns</p>\n",
       "</div>"
      ],
      "text/plain": [
       "     Age  Education  Salary Age_Range  Gender\n",
       "0     24          0     500     Young     1.0\n",
       "1     29          1     750     Adult     0.0\n",
       "2     29          1     750     Adult     0.0\n",
       "3     36          2    1250       Old     1.0\n",
       "4     24          0     500     Young     0.0\n",
       "..   ...        ...     ...       ...     ...\n",
       "245   29          1     750     Adult     0.0\n",
       "246   29          1     750     Adult     0.0\n",
       "247   24          0     500     Young     0.0\n",
       "248   24          0     500     Young     0.0\n",
       "249   36          2    1250       Old     0.0\n",
       "\n",
       "[250 rows x 5 columns]"
      ]
     },
     "execution_count": 334,
     "metadata": {},
     "output_type": "execute_result"
    }
   ],
   "source": [
    "# Applying One-hot Encoding for \"Gender\"\n",
    "from sklearn.preprocessing import OneHotEncoder\n",
    "\n",
    "gender_encoded = label_encoder.fit_transform(df['Gender'])\n",
    "gender_reshaped = gender_encoded.reshape(len(gender_encoded), 1)\n",
    "\n",
    "onehot_encoder = OneHotEncoder(sparse=False, handle_unknown='error', drop='first', categories='auto')\n",
    "gender_onehot_encoded = onehot_encoder.fit_transform(gender_reshaped)\n",
    "\n",
    "gender_ohe_df = pd.DataFrame(gender_onehot_encoded)\n",
    "df = df.join(gender_ohe_df)\n",
    "df.drop(columns=['Gender'], inplace=True)\n",
    "df = df.rename({0: \"Gender\"}, axis=1)\n",
    "df"
   ]
  },
  {
   "cell_type": "markdown",
   "id": "299dcfff",
   "metadata": {},
   "source": [
    "## Ordinal Encoding"
   ]
  },
  {
   "cell_type": "code",
   "execution_count": 335,
   "id": "b4ef4e45",
   "metadata": {},
   "outputs": [
    {
     "data": {
      "text/html": [
       "<div>\n",
       "<style scoped>\n",
       "    .dataframe tbody tr th:only-of-type {\n",
       "        vertical-align: middle;\n",
       "    }\n",
       "\n",
       "    .dataframe tbody tr th {\n",
       "        vertical-align: top;\n",
       "    }\n",
       "\n",
       "    .dataframe thead th {\n",
       "        text-align: right;\n",
       "    }\n",
       "</style>\n",
       "<table border=\"1\" class=\"dataframe\">\n",
       "  <thead>\n",
       "    <tr style=\"text-align: right;\">\n",
       "      <th></th>\n",
       "      <th>Age</th>\n",
       "      <th>Education</th>\n",
       "      <th>Salary</th>\n",
       "      <th>Gender</th>\n",
       "      <th>Age_Range</th>\n",
       "    </tr>\n",
       "  </thead>\n",
       "  <tbody>\n",
       "    <tr>\n",
       "      <th>0</th>\n",
       "      <td>24</td>\n",
       "      <td>0</td>\n",
       "      <td>500</td>\n",
       "      <td>1.0</td>\n",
       "      <td>1</td>\n",
       "    </tr>\n",
       "    <tr>\n",
       "      <th>1</th>\n",
       "      <td>29</td>\n",
       "      <td>1</td>\n",
       "      <td>750</td>\n",
       "      <td>0.0</td>\n",
       "      <td>2</td>\n",
       "    </tr>\n",
       "    <tr>\n",
       "      <th>2</th>\n",
       "      <td>29</td>\n",
       "      <td>1</td>\n",
       "      <td>750</td>\n",
       "      <td>0.0</td>\n",
       "      <td>2</td>\n",
       "    </tr>\n",
       "    <tr>\n",
       "      <th>3</th>\n",
       "      <td>36</td>\n",
       "      <td>2</td>\n",
       "      <td>1250</td>\n",
       "      <td>1.0</td>\n",
       "      <td>3</td>\n",
       "    </tr>\n",
       "    <tr>\n",
       "      <th>4</th>\n",
       "      <td>24</td>\n",
       "      <td>0</td>\n",
       "      <td>500</td>\n",
       "      <td>0.0</td>\n",
       "      <td>1</td>\n",
       "    </tr>\n",
       "    <tr>\n",
       "      <th>...</th>\n",
       "      <td>...</td>\n",
       "      <td>...</td>\n",
       "      <td>...</td>\n",
       "      <td>...</td>\n",
       "      <td>...</td>\n",
       "    </tr>\n",
       "    <tr>\n",
       "      <th>245</th>\n",
       "      <td>29</td>\n",
       "      <td>1</td>\n",
       "      <td>750</td>\n",
       "      <td>0.0</td>\n",
       "      <td>2</td>\n",
       "    </tr>\n",
       "    <tr>\n",
       "      <th>246</th>\n",
       "      <td>29</td>\n",
       "      <td>1</td>\n",
       "      <td>750</td>\n",
       "      <td>0.0</td>\n",
       "      <td>2</td>\n",
       "    </tr>\n",
       "    <tr>\n",
       "      <th>247</th>\n",
       "      <td>24</td>\n",
       "      <td>0</td>\n",
       "      <td>500</td>\n",
       "      <td>0.0</td>\n",
       "      <td>1</td>\n",
       "    </tr>\n",
       "    <tr>\n",
       "      <th>248</th>\n",
       "      <td>24</td>\n",
       "      <td>0</td>\n",
       "      <td>500</td>\n",
       "      <td>0.0</td>\n",
       "      <td>1</td>\n",
       "    </tr>\n",
       "    <tr>\n",
       "      <th>249</th>\n",
       "      <td>36</td>\n",
       "      <td>2</td>\n",
       "      <td>1250</td>\n",
       "      <td>0.0</td>\n",
       "      <td>3</td>\n",
       "    </tr>\n",
       "  </tbody>\n",
       "</table>\n",
       "<p>250 rows × 5 columns</p>\n",
       "</div>"
      ],
      "text/plain": [
       "     Age  Education  Salary  Gender  Age_Range\n",
       "0     24          0     500     1.0          1\n",
       "1     29          1     750     0.0          2\n",
       "2     29          1     750     0.0          2\n",
       "3     36          2    1250     1.0          3\n",
       "4     24          0     500     0.0          1\n",
       "..   ...        ...     ...     ...        ...\n",
       "245   29          1     750     0.0          2\n",
       "246   29          1     750     0.0          2\n",
       "247   24          0     500     0.0          1\n",
       "248   24          0     500     0.0          1\n",
       "249   36          2    1250     0.0          3\n",
       "\n",
       "[250 rows x 5 columns]"
      ]
     },
     "execution_count": 335,
     "metadata": {},
     "output_type": "execute_result"
    }
   ],
   "source": [
    "# Applying One-hot Encoding for \"Age Range\"\n",
    "age_ranges_dict = {'Young': 1, 'Adult': 2, 'Old': 3}\n",
    "\n",
    "# Setting the new column as int64\n",
    "df['Age_Range_Encoded'] = df.Age_Range.map(age_ranges_dict).astype('int64')\n",
    "df.drop(columns=['Age_Range'], inplace=True)\n",
    "df = df.rename({'Age_Range_Encoded': \"Age_Range\"}, axis=1)\n",
    "df"
   ]
  },
  {
   "cell_type": "code",
   "execution_count": 342,
   "id": "9d5b44e6",
   "metadata": {},
   "outputs": [
    {
     "name": "stdout",
     "output_type": "stream",
     "text": [
      "                Age  Education    Salary    Gender  Age_Range\n",
      "Age        1.000000   0.995148  0.995244 -0.053766   0.995148\n",
      "Education  0.995148   1.000000  0.980830 -0.054605   1.000000\n",
      "Salary     0.995244   0.980830  1.000000 -0.052422   0.980830\n",
      "Gender    -0.053766  -0.054605 -0.052422  1.000000  -0.054605\n",
      "Age_Range  0.995148   1.000000  0.980830 -0.054605   1.000000\n"
     ]
    },
    {
     "data": {
      "image/png": "[encoded data removed]",
      "text/plain": [
       "<Figure size 432x288 with 2 Axes>"
      ]
     },
     "metadata": {},
     "output_type": "display_data"
    }
   ],
   "source": [
    "# Correlation between variables\n",
    "sns.set_style(\"whitegrid\")\n",
    "corr = df.corr()\n",
    "print(corr)\n",
    "\n",
    "# Visualisation of correlation matrix\n",
    "sns.heatmap(corr, \n",
    "            xticklabels=corr.columns.values,\n",
    "            yticklabels=corr.columns.values, annot=True)\n",
    "plt.show()"
   ]
  },
  {
   "cell_type": "code",
   "execution_count": 337,
   "id": "86ec605f",
   "metadata": {},
   "outputs": [
    {
     "name": "stdout",
     "output_type": "stream",
     "text": [
      "Correlation between Age and Age_Range: 0.98\n"
     ]
    }
   ],
   "source": [
    "# Correlation coefficient\n",
    "corr_coef = np.corrcoef(df[\"Salary\"], df[\"Age_Range\"])[0, 1]\n",
    "print(\"Correlation between Age and Age_Range:\", round(corr_coef, 2))"
   ]
  },
  {
   "cell_type": "code",
   "execution_count": 338,
   "id": "8dd00a45",
   "metadata": {},
   "outputs": [
    {
     "name": "stdout",
     "output_type": "stream",
     "text": [
      "Independent t-test: 41.879900630988864 2.69935807383125e-165\n"
     ]
    }
   ],
   "source": [
    "# Significance of correlation coefficient\n",
    "ttest, pval = stats.ttest_ind(df[\"Salary\"], df[\"Age_Range\"])\n",
    "print(\"Independent t-test:\", ttest, pval)"
   ]
  },
  {
   "cell_type": "code",
   "execution_count": 339,
   "id": "8fa0b901",
   "metadata": {},
   "outputs": [
    {
     "data": {
      "text/plain": [
       "Text(0.5, 1.0, 'Independent T-Test')"
      ]
     },
     "execution_count": 339,
     "metadata": {},
     "output_type": "execute_result"
    },
    {
     "data": {
      "image/png": "[encoded data removed]",
      "text/plain": [
       "<Figure size 432x288 with 1 Axes>"
      ]
     },
     "metadata": {},
     "output_type": "display_data"
    }
   ],
   "source": [
    "# Plotting the T-test\n",
    "sns.kdeplot(df[\"Salary\"], shade=True)\n",
    "sns.kdeplot(df[\"Age_Range\"], shade=True)\n",
    "plt.title(\"Independent T-Test\")"
   ]
  },
  {
   "cell_type": "code",
   "execution_count": 340,
   "id": "39aaaa45",
   "metadata": {},
   "outputs": [
    {
     "data": {
      "image/png": "[encoded data removed]",
      "text/plain": [
       "<Figure size 432x432 with 3 Axes>"
      ]
     },
     "metadata": {},
     "output_type": "display_data"
    }
   ],
   "source": [
    "# Analysing correlation between Calories and Duration\n",
    "sns.jointplot(kind=\"reg\", x=\"Salary\", y=\"Age_Range\", data=df)\n",
    "plt.show()"
   ]
  },
  {
   "cell_type": "code",
   "execution_count": null,
   "id": "2f0cf1c0",
   "metadata": {},
   "outputs": [],
   "source": []
  }
 ],
 "metadata": {
  "kernelspec": {
   "display_name": "Python 3",
   "language": "python",
   "name": "python3"
  },
  "language_info": {
   "codemirror_mode": {
    "name": "ipython",
    "version": 3
   },
   "file_extension": ".py",
   "mimetype": "text/x-python",
   "name": "python",
   "nbconvert_exporter": "python",
   "pygments_lexer": "ipython3",
   "version": "3.8.8"
  }
 },
 "nbformat": 4,
 "nbformat_minor": 5
}
